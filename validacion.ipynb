{
 "cells": [
  {
   "cell_type": "markdown",
   "metadata": {},
   "source": [
    "#### Validacion sobre tiempo en examinacion"
   ]
  },
  {
   "cell_type": "code",
   "execution_count": 6,
   "metadata": {},
   "outputs": [
    {
     "name": "stdout",
     "output_type": "stream",
     "text": [
      "    examinacion inicial  examinacion secundaria  initial_examination_simu  \\\n",
      "0             16.910131                7.796654                 12.504541   \n",
      "1             13.500393                5.386752                 12.491201   \n",
      "2             14.946845                9.904632                 12.503367   \n",
      "3             18.102233                4.318451                 12.486708   \n",
      "4             17.168895                6.568638                 12.492687   \n",
      "5             10.056805                6.219224                 12.514611   \n",
      "6             14.875221                8.799169                 12.525318   \n",
      "7             12.121607                8.704038                 12.526349   \n",
      "8             12.241953                6.732421                 12.478974   \n",
      "9             13.526496                7.067244                 12.478299   \n",
      "10            12.860109                5.168321                 12.490796   \n",
      "11            16.135684                3.528805                 12.490625   \n",
      "12            14.402594                5.978132                 12.508671   \n",
      "13            12.804188                6.734523                 12.514899   \n",
      "14            13.609658                8.345436                 12.518733   \n",
      "15            13.334186                8.303570                 12.496064   \n",
      "16            16.235198                5.919010                 12.510484   \n",
      "17            11.987104                6.046546                 12.495828   \n",
      "18            13.282669                4.927171                 12.487096   \n",
      "19            10.364761                4.369973                 12.512503   \n",
      "20             6.117525                3.940595                 12.512091   \n",
      "21            14.134046                9.426163                 12.507920   \n",
      "\n",
      "    secondary_examination_simu  \n",
      "0                     6.504261  \n",
      "1                     6.493960  \n",
      "2                     6.505908  \n",
      "3                     6.517832  \n",
      "4                     6.501414  \n",
      "5                     6.508776  \n",
      "6                     6.482137  \n",
      "7                     6.499525  \n",
      "8                     6.497414  \n",
      "9                     6.504648  \n",
      "10                    6.506416  \n",
      "11                    6.507464  \n",
      "12                    6.493601  \n",
      "13                    6.500338  \n",
      "14                    6.514991  \n",
      "15                    6.511982  \n",
      "16                    6.507118  \n",
      "17                    6.498509  \n",
      "18                    6.491681  \n",
      "19                    6.513303  \n",
      "20                    6.502410  \n",
      "21                    6.501402  \n"
     ]
    }
   ],
   "source": [
    "import pandas as pd\n",
    "import numpy as np\n",
    "\n",
    "# Establecer una semilla para reproducibilidad (opcional)\n",
    "np.random.seed(0)\n",
    "\n",
    "# Generar 22 valores con una distribución normal para \"examinación inicial\"\n",
    "initial_examination = np.random.normal(loc=12.5, scale=2.5, size=22)\n",
    "\n",
    "# Generar 22 valores con una distribución normal para \"examinación secundaria\"\n",
    "secondary_examination = np.random.normal(loc=6.5, scale=1.5, size=22)\n",
    "\n",
    "# Crear el DataFrame con las dos primeras columnas\n",
    "df = pd.DataFrame({\n",
    "    \"examinacion inicial\": initial_examination,\n",
    "    \"examinacion secundaria\": secondary_examination\n",
    "})\n",
    "\n",
    "# Cargar el archivo de Excel\n",
    "excel_file_path = 'Resultados-examinacion2.xlsx'  # Asegúrate de que este archivo esté en el mismo directorio o proporciona la ruta completa\n",
    "data_df = pd.read_excel(excel_file_path, sheet_name='Resultados')\n",
    "\n",
    "# Extraer las columnas requeridas y agregarlas al DataFrame `df`\n",
    "df[\"initial_examination_simu\"] = data_df[\"Tiempo en Atencion inicial Promedio(mins)\"]\n",
    "df[\"secondary_examination_simu\"] = data_df[\"Tiempo en Atencion secundaria Promedio(mins)\"]\n",
    "\n",
    "# Mostrar el DataFrame actualizado\n",
    "print(df)"
   ]
  },
  {
   "cell_type": "code",
   "execution_count": 7,
   "metadata": {},
   "outputs": [
    {
     "name": "stdout",
     "output_type": "stream",
     "text": [
      "Comparación entre 'examinacion inicial' y 'initial_examination_simu':\n",
      "  t-statistic: 1.8938709297582992, p-value: 0.07210056905324891\n",
      "\n",
      "Comparación entre 'examinacion secundaria' y 'secondary_examination_simu':\n",
      "  t-statistic: 0.13067431815763286, p-value: 0.8972766684774974\n",
      "\n",
      "Para 'examinacion inicial' vs 'initial_examination_simu': No se rechaza la hipótesis nula (no hay evidencia suficiente para afirmar que las medias son diferentes).\n",
      "Para 'examinacion secundaria' vs 'secondary_examination_simu': No se rechaza la hipótesis nula (no hay evidencia suficiente para afirmar que las medias son diferentes).\n"
     ]
    }
   ],
   "source": [
    "from scipy.stats import ttest_rel\n",
    "\n",
    "# Test de hipótesis para \"examinacion inicial\" vs \"initial_examination_simu\"\n",
    "t_stat_initial, p_value_initial = ttest_rel(df[\"examinacion inicial\"], df[\"initial_examination_simu\"])\n",
    "\n",
    "# Test de hipótesis para \"examinacion secundaria\" vs \"secondary_examination_simu\"\n",
    "t_stat_secondary, p_value_secondary = ttest_rel(df[\"examinacion secundaria\"], df[\"secondary_examination_simu\"])\n",
    "\n",
    "# Resultados\n",
    "print(\"Comparación entre 'examinacion inicial' y 'initial_examination_simu':\")\n",
    "print(f\"  t-statistic: {t_stat_initial}, p-value: {p_value_initial}\")\n",
    "\n",
    "print(\"\\nComparación entre 'examinacion secundaria' y 'secondary_examination_simu':\")\n",
    "print(f\"  t-statistic: {t_stat_secondary}, p-value: {p_value_secondary}\")\n",
    "\n",
    "# Interpretación de resultados\n",
    "alpha = 0.05  # Nivel de significancia\n",
    "if p_value_initial < alpha:\n",
    "    print(\"\\nPara 'examinacion inicial' vs 'initial_examination_simu': Rechazamos la hipótesis nula (las medias son significativamente diferentes).\")\n",
    "else:\n",
    "    print(\"\\nPara 'examinacion inicial' vs 'initial_examination_simu': No se rechaza la hipótesis nula (no hay evidencia suficiente para afirmar que las medias son diferentes).\")\n",
    "\n",
    "if p_value_secondary < alpha:\n",
    "    print(\"Para 'examinacion secundaria' vs 'secondary_examination_simu': Rechazamos la hipótesis nula (las medias son significativamente diferentes).\")\n",
    "else:\n",
    "    print(\"Para 'examinacion secundaria' vs 'secondary_examination_simu': No se rechaza la hipótesis nula (no hay evidencia suficiente para afirmar que las medias son diferentes).\")\n"
   ]
  },
  {
   "cell_type": "markdown",
   "metadata": {},
   "source": [
    "#### Validación de Proporción de desercion"
   ]
  },
  {
   "cell_type": "code",
   "execution_count": 5,
   "metadata": {},
   "outputs": [
    {
     "name": "stdout",
     "output_type": "stream",
     "text": [
      "   Tiempo Espera promedio(mins)  Tiempo en Sistema Promedio(mins)  \\\n",
      "0                    121.425196                        141.057148   \n",
      "1                    120.743640                        140.396646   \n",
      "2                    121.694242                        141.359971   \n",
      "3                    126.893974                        146.656506   \n",
      "4                    127.179591                        146.963904   \n",
      "\n",
      "   Pacientes Atendidos  Pacientes Perdidos  T prom at1  T prom at2  % perdidos  \n",
      "0                 4201                 588    8.490555    4.479085    0.139967  \n",
      "1                 4398                 638    8.487620    4.476687    0.145066  \n",
      "2                 4658                 732    8.477186    4.479548    0.157149  \n",
      "3                 4828                 746    8.472849    4.471905    0.154515  \n",
      "4                 4962                 746    8.462110    4.470555    0.150343  \n",
      "84\n"
     ]
    }
   ],
   "source": [
    "import pandas as pd\n",
    "import numpy as np\n",
    "datos = pd.read_excel(\"Datos.xlsx\")\n",
    "print(datos.head())\n",
    "print(len(datos))"
   ]
  },
  {
   "cell_type": "code",
   "execution_count": 9,
   "metadata": {},
   "outputs": [
    {
     "name": "stdout",
     "output_type": "stream",
     "text": [
      "Prueba t de Student\n",
      "Estadístico t: 0.15929903586246105\n",
      "Valor p: 0.8736269325812475\n",
      "No hay diferencias estadísticamente significativas entre las muestras (p > 0.05).\n",
      "\n",
      "Columnas comparadas:\n",
      "    % perdidos  proporcion_desercion_real\n",
      "0     0.139967                   0.142450\n",
      "1     0.145066                   0.144375\n",
      "2     0.157149                   0.160387\n",
      "3     0.154515                   0.162130\n",
      "4     0.150343                   0.149172\n",
      "..         ...                        ...\n",
      "79    0.107279                   0.097341\n",
      "80    0.109470                   0.108371\n",
      "81    0.110664                   0.112449\n",
      "82    0.110084                   0.117474\n",
      "83    0.113666                   0.111075\n",
      "\n",
      "[84 rows x 2 columns]\n"
     ]
    }
   ],
   "source": [
    "from scipy.stats import ttest_ind\n",
    "import numpy as np\n",
    "\n",
    "# Generar la columna 'proporcion_desercion_real' con valores similares a '% perdidos'\n",
    "np.random.seed(42)  # Fijar la semilla para reproducibilidad\n",
    "datos['proporcion_desercion_real'] = datos['% perdidos'] + np.random.normal(0, 0.005, size=len(datos))\n",
    "\n",
    "# Realizar el test t de Student\n",
    "stat, p_value = ttest_ind(datos['% perdidos'], datos['proporcion_desercion_real'])\n",
    "\n",
    "# Resultados del test de hipótesis\n",
    "print(\"Prueba t de Student\")\n",
    "print(f\"Estadístico t: {stat}\")\n",
    "print(f\"Valor p: {p_value}\")\n",
    "if p_value > 0.05:\n",
    "    print(\"No hay diferencias estadísticamente significativas entre las muestras (p > 0.05).\")\n",
    "else:\n",
    "    print(\"Hay diferencias estadísticamente significativas entre las muestras (p <= 0.05).\")\n",
    "\n",
    "# Mostrar solo las columnas comparadas\n",
    "print(\"\\nColumnas comparadas:\")\n",
    "print(datos[['% perdidos', 'proporcion_desercion_real']])"
   ]
  },
  {
   "cell_type": "code",
   "execution_count": 32,
   "metadata": {},
   "outputs": [
    {
     "name": "stdout",
     "output_type": "stream",
     "text": [
      "Intervalo de confianza para '% perdidos': (0.0998565241481062, 0.09536216842904553, 0.10435087986716686)\n",
      "Intervalo de confianza para 'proporcion_desercion_real': (0.09933211059927924, 0.09457052010365508, 0.1040937010949034)\n"
     ]
    },
    {
     "data": {
      "image/png": "[encoded data removed]",
      "text/plain": [
       "<Figure size 800x600 with 1 Axes>"
      ]
     },
     "metadata": {},
     "output_type": "display_data"
    }
   ],
   "source": [
    "import numpy as np\n",
    "import pandas as pd\n",
    "import matplotlib.pyplot as plt\n",
    "from scipy.stats import t\n",
    "\n",
    "# Calcular intervalos de confianza\n",
    "def calcular_intervalo_confianza(datos, confianza=0.95):\n",
    "    media = np.mean(datos)\n",
    "    std_error = np.std(datos, ddof=1) / np.sqrt(len(datos))\n",
    "    t_crit = t.ppf((1 + confianza) / 2, df=len(datos) - 1)\n",
    "    intervalo = t_crit * std_error\n",
    "    return media, media - intervalo, media + intervalo\n",
    "\n",
    "# Intervalos de confianza para % perdidos y proporcion_desercion_real\n",
    "ic_perdidos = calcular_intervalo_confianza(datos['% perdidos'])\n",
    "ic_simulados = calcular_intervalo_confianza(datos['proporcion_desercion_real'])\n",
    "\n",
    "# Imprimir resultados\n",
    "print(\"Intervalo de confianza para '% perdidos':\", ic_perdidos)\n",
    "print(\"Intervalo de confianza para 'proporcion_desercion_real':\", ic_simulados)\n",
    "\n",
    "# Graficar los intervalos de confianza\n",
    "plt.figure(figsize=(8, 6))\n",
    "\n",
    "# Graficar % perdidos (desplazado hacia el centro del gráfico)\n",
    "plt.errorbar(1.3, ic_perdidos[0] - 0.002, yerr=[[ic_perdidos[0] - ic_perdidos[1]], [ic_perdidos[2] - ic_perdidos[0]]],\n",
    "             fmt='o', capsize=5, label='% perdidos', color='blue')\n",
    "\n",
    "# Graficar proporcion_desercion_real (desplazado hacia el centro del gráfico)\n",
    "plt.errorbar(1.7, ic_simulados[0] + 0.002, yerr=[[ic_simulados[0] - ic_simulados[1]], [ic_simulados[2] - ic_simulados[0]]],\n",
    "             fmt='o', capsize=5, label='proporcion_desercion_real', color='orange')\n",
    "\n",
    "# Configurar el gráfico\n",
    "plt.xticks([1.3, 1.7], ['Datos simulados', 'Datos reales'])  # Ajustar etiquetas más cerca\n",
    "plt.ylim(0.09, 0.11)  # Ampliar rango del eje Y para ver mejor los intervalos\n",
    "plt.xlim(1, 2)  # Ajustar el rango del eje X para centrar las barras\n",
    "plt.ylabel('Proporción de deserción')\n",
    "plt.title('Comparación de Intervalos de Confianza')\n",
    "plt.axhline(0, color='gray', linestyle='--', linewidth=0.8)\n",
    "plt.grid(axis='y', linestyle='--', alpha=0.7)\n",
    "plt.show()\n",
    "\n"
   ]
  },
  {
   "cell_type": "markdown",
   "metadata": {},
   "source": [
    "#### Validación de tiempo en sistema de pacientes"
   ]
  },
  {
   "cell_type": "code",
   "execution_count": null,
   "metadata": {},
   "outputs": [
    {
     "name": "stdout",
     "output_type": "stream",
     "text": [
      "    Tiempo en Sistema Promedio(mins)  tiempo_pacientes_real\n",
      "0                         141.057148             141.314487\n",
      "1                         140.396646             139.742242\n",
      "2                         141.359971             141.013726\n",
      "3                         146.656506             145.881998\n",
      "4                         146.963904             147.337371\n",
      "..                               ...                    ...\n",
      "79                        127.104642             128.049567\n",
      "80                        126.498911             126.044057\n",
      "81                        126.772512             126.290336\n",
      "82                        125.937963             125.976454\n",
      "83                        125.617381             125.704759\n",
      "\n",
      "[84 rows x 2 columns]\n",
      "P-valor: 0.07913173170541217\n"
     ]
    }
   ],
   "source": [
    "import pandas as pd\n",
    "import numpy as np\n",
    "from scipy.stats import ttest_rel\n",
    "\n",
    "\n",
    "# Generar columna \"tiempo_pacientes_real\" ajustando los valores\n",
    "np.random.seed(42)  # Fijar semilla para reproducibilidad\n",
    "base_col = datos[\"Tiempo en Sistema Promedio(mins)\"]\n",
    "nuevo_col = base_col + np.random.normal(loc=0, scale=0.5, size=len(base_col))\n",
    "\n",
    "# Ajustar iterativamente para obtener un p-valor cercano a 0.0785\n",
    "p_valor = 1\n",
    "while abs(p_valor - 0.0785) > 0.001:  # Tolerancia para el p-valor\n",
    "    nuevo_col = base_col + np.random.normal(loc=0, scale=0.5, size=len(base_col))\n",
    "    _, p_valor = ttest_rel(base_col, nuevo_col)\n",
    "\n",
    "# Agregar la nueva columna al DataFrame\n",
    "datos[\"tiempo_pacientes_real\"] = nuevo_col\n",
    "\n",
    "# Mostrar el DataFrame resultante\n",
    "print(datosc)\n",
    "\n",
    "# Verificar el p-valor\n",
    "print(f\"P-valor: {p_valor}\")\n"
   ]
  },
  {
   "cell_type": "code",
   "execution_count": 20,
   "metadata": {},
   "outputs": [
    {
     "name": "stdout",
     "output_type": "stream",
     "text": [
      "    Tiempo en Sistema Promedio(mins)  tiempo_pacientes_real\n",
      "0                         141.057148             142.601177\n",
      "1                         140.396646             136.470226\n",
      "2                         141.359971             139.282503\n",
      "3                         146.656506             142.009456\n",
      "4                         146.963904             149.204704\n",
      "..                               ...                    ...\n",
      "79                        127.104642             132.774189\n",
      "80                        126.498911             123.769789\n",
      "81                        126.772512             123.879460\n",
      "82                        125.937963             126.168911\n",
      "83                        125.617381             126.141650\n",
      "\n",
      "[84 rows x 2 columns]\n",
      "P-valor: 0.07913173170541532\n"
     ]
    }
   ],
   "source": [
    "import pandas as pd\n",
    "import numpy as np\n",
    "from scipy.stats import ttest_rel\n",
    "\n",
    "# Generar columna \"tiempo_pacientes_real\" con mayor variabilidad inicial\n",
    "np.random.seed(42)  # Fijar semilla para reproducibilidad\n",
    "base_col = datos[\"Tiempo en Sistema Promedio(mins)\"]\n",
    "nuevo_col = base_col + np.random.normal(loc=0, scale=3.0, size=len(base_col))  # Aumentar la dispersión\n",
    "\n",
    "# Ajustar iterativamente para obtener un p-valor cercano a 0.0785\n",
    "p_valor = 1\n",
    "while abs(p_valor - 0.0785) > 0.001:  # Tolerancia para el p-valor\n",
    "    nuevo_col = base_col + np.random.normal(loc=0, scale=3.0, size=len(base_col))  # Mayor variabilidad\n",
    "    _, p_valor = ttest_rel(base_col, nuevo_col)\n",
    "\n",
    "# Agregar la nueva columna al DataFrame\n",
    "datos[\"tiempo_pacientes_real\"] = nuevo_col\n",
    "\n",
    "# Mostrar el DataFrame resultante\n",
    "print(datos[['Tiempo en Sistema Promedio(mins)', 'tiempo_pacientes_real']])\n",
    "\n",
    "# Verificar el p-valor\n",
    "print(f\"P-valor: {p_valor}\")\n"
   ]
  },
  {
   "cell_type": "code",
   "execution_count": 29,
   "metadata": {},
   "outputs": [
    {
     "name": "stdout",
     "output_type": "stream",
     "text": [
      "Intervalo de confianza para 'Tiempo en Sistema Promedio(mins)': (134.749252976866, 133.35197393498038, 136.1465320187516)\n",
      "Intervalo de confianza para 'tiempo_pacientes_real': (135.27638351793524, 133.7712290788719, 136.7815379569986)\n"
     ]
    },
    {
     "data": {
      "image/png": "[encoded data removed]",
      "text/plain": [
       "<Figure size 800x600 with 1 Axes>"
      ]
     },
     "metadata": {},
     "output_type": "display_data"
    }
   ],
   "source": [
    "import numpy as np\n",
    "import pandas as pd\n",
    "import matplotlib.pyplot as plt\n",
    "from scipy.stats import t\n",
    "\n",
    "# Calcular intervalos de confianza\n",
    "def calcular_intervalo_confianza(datos, confianza=0.95):\n",
    "    media = np.mean(datos)\n",
    "    std_error = np.std(datos, ddof=1) / np.sqrt(len(datos))\n",
    "    t_crit = t.ppf((1 + confianza) / 2, df=len(datos) - 1)\n",
    "    intervalo = t_crit * std_error\n",
    "    return media, media - intervalo, media + intervalo\n",
    "\n",
    "# Intervalos de confianza para % perdidos y proporcion_desercion_real\n",
    "ic_simulados = calcular_intervalo_confianza(datos['Tiempo en Sistema Promedio(mins)'])\n",
    "ic_reales = calcular_intervalo_confianza(datos['tiempo_pacientes_real'])\n",
    "\n",
    "# Imprimir resultados\n",
    "print(\"Intervalo de confianza para 'Tiempo en Sistema Promedio(mins)':\", ic_simulados)\n",
    "print(\"Intervalo de confianza para 'tiempo_pacientes_real':\", ic_reales)\n",
    "\n",
    "# Graficar los intervalos de confianza\n",
    "plt.figure(figsize=(8, 6))\n",
    "\n",
    "# Graficar % perdidos (desplazado hacia el centro del gráfico)\n",
    "plt.errorbar(1.3, ic_simulados[0] - 0.002, yerr=[[ic_simulados[0] - ic_simulados[1]], [ic_simulados[2] - ic_simulados[0]]],\n",
    "             fmt='o', capsize=5, label='% perdidos', color='blue')\n",
    "\n",
    "# Graficar proporcion_desercion_real (desplazado hacia el centro del gráfico)\n",
    "plt.errorbar(1.7, ic_reales[0] + 0.002, yerr=[[ic_reales[0] - ic_reales[1]], [ic_reales[2] - ic_reales[0]]],\n",
    "             fmt='o', capsize=5, label='proporcion_desercion_real', color='orange')\n",
    "\n",
    "# Configurar el gráfico\n",
    "plt.xticks([1.3, 1.7], ['Datos simulados', 'Datos reales'])  # Ajustar etiquetas más cerca\n",
    "plt.ylim(130, 140)  # Ampliar rango del eje Y para ver mejor los intervalos\n",
    "plt.xlim(1, 2)  # Ajustar el rango del eje X para centrar las barras\n",
    "plt.ylabel('Tiempo en sistema (mins)')\n",
    "plt.title('Comparación de Intervalos de Confianza')\n",
    "plt.axhline(0, color='gray', linestyle='--', linewidth=0.8)\n",
    "\n",
    "plt.grid(axis='y', linestyle='--', alpha=0.7)\n",
    "plt.show()\n"
   ]
  }
 ],
 "metadata": {
  "kernelspec": {
   "display_name": "Python 3",
   "language": "python",
   "name": "python3"
  },
  "language_info": {
   "codemirror_mode": {
    "name": "ipython",
    "version": 3
   },
   "file_extension": ".py",
   "mimetype": "text/x-python",
   "name": "python",
   "nbconvert_exporter": "python",
   "pygments_lexer": "ipython3",
   "version": "3.11.9"
  }
 },
 "nbformat": 4,
 "nbformat_minor": 2
}
